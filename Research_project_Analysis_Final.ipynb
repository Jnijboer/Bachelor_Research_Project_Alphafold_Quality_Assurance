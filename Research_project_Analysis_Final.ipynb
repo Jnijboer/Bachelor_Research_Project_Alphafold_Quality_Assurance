{
  "metadata": {
    "kernelspec": {
      "name": "python",
      "display_name": "Python (Pyodide)",
      "language": "python"
    },
    "language_info": {
      "codemirror_mode": {
        "name": "ipython",
        "version": 3
      },
      "file_extension": ".py",
      "mimetype": "text/x-python",
      "name": "python",
      "nbconvert_exporter": "python",
      "pygments_lexer": "ipython3",
      "version": "3.10.12"
    }
  },
  "nbformat_minor": 5,
  "nbformat": 4,
  "cells": [
    {
      "id": "f7b7784b",
      "cell_type": "code",
      "source": "import trr\nimport numpy as np\nimport timer\nimport MDAnalysis as mda\nimport matplotlib.pyplot as plt\n\ntim = timer.Timer()",
      "metadata": {},
      "outputs": [
        {
          "name": "stderr",
          "output_type": "stream",
          "text": "/usr/local/lib/python3.10/dist-packages/matplotlib/projections/__init__.py:63: UserWarning: Unable to import Axes3D. This may be due to multiple versions of Matplotlib being installed (e.g. as a system package and as a pip package). As a result, the 3D projection is not available.\n,  warnings.warn(\"Unable to import Axes3D. This may be due to multiple versions of \"\n"
        }
      ],
      "execution_count": 1
    },
    {
      "id": "entitled-contest",
      "cell_type": "markdown",
      "source": "# Setting up files, paths and selections",
      "metadata": {}
    },
    {
      "id": "compound-pixel",
      "cell_type": "code",
      "source": "model = '3'\ndirectory = f'/home/maria/Project/ROS1_62IC+KIN_2/resultsmodel{model}IC62KIN_2/'\nbase = f'model{model}IC62KIN_2-MD.part0001.'\ntpr = f'{directory}{base}gro'\nxtc = f'{directory}{base}xtc' \ntrr_file = f'{directory}{base}trr'\npdb = f'corrected_xtc/trial/model{model}ROS1_2.pdb'\n\nfig_path = f'/home/joyce/Project/Forces/Figures/ROS1_exp2/model{model}ROS1figs/'\ntp = 0\n\nu = mda.Universe(tpr,xtc)\nref = mda.Universe(pdb)\nprotein = u.select_atoms('protein')\n\nrALK = protein.resids + 1060\nrROS1 = protein.resids + 1883\nresid_numbers = rROS1 #Specify which residue numbers should be in the RMSF plot\n\nCA = np.isin(protein.ix, protein.select_atoms('name CA').ix)\nBB = np.isin(protein.ix, protein.select_atoms('backbone').ix)\nBB[0] = False\nBODY = np.isin(protein.resids , np.arange(19, 148))",
      "metadata": {
        "trusted": true
      },
      "outputs": [],
      "execution_count": null
    },
    {
      "id": "deadly-google",
      "cell_type": "markdown",
      "source": "# Reading coordinates from the mda universe into an array",
      "metadata": {}
    },
    {
      "id": "noble-calendar",
      "cell_type": "code",
      "source": "def uni2arr(u, selection):\n    '''\n    This function reads the coordinates from an MDAnalysis universe into a numpy array.\n    '''\n    X = np.zeros((len(u.trajectory), len(selection), 3))\n    for ix, frame in enumerate(u.trajectory):\n        X[ix] = selection.positions\n    return X",
      "metadata": {},
      "outputs": [],
      "execution_count": null
    },
    {
      "id": "atmospheric-cable",
      "cell_type": "markdown",
      "source": "# Reading the forces into a numpy array",
      "metadata": {}
    },
    {
      "id": "674f014f-2149-4385-aba5-89960c0bac7f",
      "cell_type": "code",
      "source": "def trr2arr(trr_file, selection):\n    '''\n    This function reads a force data from a trr file using the trr module and saves it into a numpy array.\n    '''\n    T = trr.TRR(trr_file, selection.ix)\n    F = T.forces\n    return F",
      "metadata": {},
      "outputs": [],
      "execution_count": null
    },
    {
      "id": "a12e3c26-5849-467d-bb7b-326d91d6ae92",
      "cell_type": "markdown",
      "source": "# Correcting for periodic boundary condition (PBC)",
      "metadata": {}
    },
    {
      "id": "5ebae9cc-68e5-4f01-86e7-3b9a1b179ddd",
      "cell_type": "code",
      "source": "def dim2pbc(arr: np.ndarray) -> np.ndarray:\n    '''\n    Convert unit cell definition from PDB CRYST1 format to lattice definition.\n    '''\n    lengths = arr[:, :3]\n    angles = arr[:, 3:] * (np.pi / 180)\n\n    cosa = np.cos(angles)\n    sing = np.sin(angles[:, 2])    \n    \n    pbc = np.zeros((len(arr), 9))\n    pbc[:, 0] = lengths[:, 0]\n    pbc[:, 3] = lengths[:, 1] * cosa[:, 2]\n    pbc[:, 4] = lengths[:, 1] * sing    \n    pbc[:, 6] = lengths[:, 2] * cosa[:, 1]\n    pbc[:, 7] = lengths[:, 2] * (cosa[:, 0] - cosa[:, 1] * cosa[:, 2]) / sing\n    pbc[:, 8] = (lengths[:, 2] ** 2 - (pbc[:, 6:8] ** 2).sum(axis=1)) ** 0.5\n    \n    return pbc.reshape((-1, 3, 3))",
      "metadata": {},
      "outputs": [],
      "execution_count": null
    },
    {
      "id": "30100d84-e63f-43d6-b1e0-855463fa297f",
      "cell_type": "code",
      "source": "def boxdim(u, selection):\n    '''\n    Saving and processing the box dimensions over the entire directory using the dim2pbc function.\n    '''\n    B = np.empty((len(u.trajectory), 6))\n    for idx, f in enumerate(u.trajectory):\n        B[idx] = selection.dimensions.copy()\n    B = dim2pbc(B)\n    return B",
      "metadata": {},
      "outputs": [],
      "execution_count": null
    },
    {
      "id": "a429a342-e965-4bca-b013-96448d1c2d84",
      "cell_type": "code",
      "source": "def nojump(X, B, ref=None):\n    \"\"\"\n    Remove periodic boundary condition (PBC) jumps from a molecular dynamics trajectory.\n\n    This function unwraps the trajectory `X` using the provided simulation box definitions `B`,\n    correcting for discontinuities caused by particles crossing periodic boundaries. The result\n    is a continuous trajectory in real space. The first frame or a user-defined reference frame\n    is used as the starting point for unwrapping.\n\n    Parameters\n    ----------\n    X : ndarray, shape (n_frames, n_atoms, 3)\n        Molecular dynamics trajectory positions in Cartesian coordinates.\n    B : ndarray, shape (n_frames, 3, 3)\n        Simulation box matrices corresponding to each frame in `X`.\n    ref : ndarray, shape (n_atoms, 3), optional\n        Reference frame for unwrapping. If None, the first frame of `X` is used.\n\n    Returns\n    -------\n    X_unwrapped : ndarray, shape (n_frames, n_atoms, 3)\n        The unwrapped trajectory with periodic jumps removed and positions expressed\n        in real Cartesian space.\n\n    Notes\n    -----\n    - The trajectory is converted to fractional coordinates relative to the box,\n      corrected for jumps, and then converted back to Cartesian coordinates.\n    - This function assumes orthorhombic or triclinic boxes defined per-frame in `B`.\n    \"\"\"\n    if ref is None:\n        ref = X[0]\n    ref = ref @ np.linalg.inv(B[0])\n    \n    X = X @ np.linalg.inv(B)\n    X[1:] = np.diff(X, axis=0) + 0.5\n    X[0] -= ref - 0.5\n    X -= np.floor(X)\n    X[0] += ref\n    X = np.cumsum(X - 0.5, axis=0) @ B\n\n    return X",
      "metadata": {},
      "outputs": [],
      "execution_count": null
    },
    {
      "id": "ae4e6954-8b5a-4525-b5ac-779988a9ef96",
      "cell_type": "markdown",
      "source": "# Preparing the reference frame for the RMSD",
      "metadata": {}
    },
    {
      "id": "becda845-59fb-4510-bdde-9f8b0c7a4e28",
      "cell_type": "code",
      "source": "def refplot(X):\n    '''\n    Plotting the reference structure for the analysis, checking for artifacts.\n    '''\n    ref = X[0]\n    for k in [0, 1], [0, 2], [1, 2]:\n        plt.scatter(*ref[:, k].T, c=-np.arange(len(ref)), cmap='turbo')\n        plt.gca().set_aspect('equal')\n        k = f'{k[0]}_{k[1]}'\n        tp = f'rmsd{k}structure'\n        name = f'{fig_path}/{tp}model_{model}.png'\n        plt.savefig(name, dpi = 300, bbox_inches='tight')\n        print(f' Reference structure from dimension {k}')\n        plt.show()",
      "metadata": {},
      "outputs": [],
      "execution_count": null
    },
    {
      "id": "cf07f956-828f-41d5-9b0c-8ec618b75ed2",
      "cell_type": "markdown",
      "source": "# Deriving the RMSD",
      "metadata": {}
    },
    {
      "id": "89f6bf7c-b6c1-4486-9a9a-5acb7745d60b",
      "cell_type": "code",
      "source": "def rmsd_plot(X):\n    '''\n    Calculating the RMSD over time and plotting it.\n    '''\n    X -= X.mean(axis=1, keepdims=True)\n    ref = X[0]\n    rgyr = (X ** 2).sum(axis=(1, 2)) / len(ref)\n    \n    U, L, V = np.linalg.svd(ref.T @ X / len(ref))\n    X = X @ (U @ V).transpose((0, 2, 1))\n    refrmsd = np.sqrt(np.maximum(0, rgyr[0] + rgyr - 2 * L.sum(axis=-1))) / 10\n    \n    plt.plot(refrmsd, color = 'magenta')\n    plt.xlabel('time in ps')\n    plt.ylabel('RMSD')\n    \n    tp = 'rmsd'\n    name = f'{fig_path}/{tp}model_{model}.png'\n    plt.savefig(name, dpi = 300, bbox_inches ='tight')\n    print('RMSD over time')\n    plt.show()",
      "metadata": {
        "scrolled": true
      },
      "outputs": [],
      "execution_count": null
    },
    {
      "id": "d17d1a47-b1f4-425b-8d7c-9172855daa64",
      "cell_type": "markdown",
      "source": "# Calculation of the RMSF",
      "metadata": {}
    },
    {
      "id": "0254c6f3-8629-492a-87b0-8f56c7b38c9b",
      "cell_type": "code",
      "source": "def rmsf_plot(X):\n    '''\n    Calculating the RMSF per residue and plotting it.\n    '''\n    X -= X.mean(axis=1, keepdims=True)\n    nframes = X.shape[0]\n    means = X.mean(axis=0, keepdims=True) \n    rmsf = (((X - means) ** 2).sum(axis=(0, 2))/nframes ) ** 0.5 \n    resrmsf = []\n    for i in range(1, (max(resid_numbers)+1)):\n        resrmsf.append((rmsf[resid_numbers == i] **2).mean() **0.5)\n\n    plt.plot(resrmsf, color = 'magenta')\n    plt.xlabel('residue number')\n    plt.ylabel('RMSF')\n    tp = 'rmsf'\n    name = f'{fig_path}/{tp}model_{model}.png'\n    plt.savefig(name, dpi = 300, bbox_inches ='tight')\n    print('RMSF per residue')\n    plt.show()        ",
      "metadata": {},
      "outputs": [],
      "execution_count": null
    },
    {
      "id": "4606f722-333f-4018-849f-14d41da30450",
      "cell_type": "markdown",
      "source": "# Principal component analysis for coordinates",
      "metadata": {}
    },
    {
      "id": "c2868fe7-52f4-490b-b46d-9978f98bb837",
      "cell_type": "code",
      "source": "def aligned_to_ref_coords(X, split_data):\n    '''\n    Aligning all the frames to the reference frame based on the coordinate data, which is set to the first with X[0},\n    plotting it and splitting the data in a way that is preferred and saving it into variables P and R.\n    '''\n    nframes, natoms, ndim = X.shape\n    X -= X.mean(axis=1, keepdims=True)\n    sele = BB & BODY\n    fit = sele\n    ref = X[0]\n\n    rctl = ref[fit] - ref[fit].mean(axis=0)\n    means = X[ :, fit].mean(axis=1, keepdims=True)\n    U, L, V = np.linalg.svd((rctl.T / (3 * len(rctl))) @ X[ :, fit])\n    X = (X - means) @ (U @ V).transpose((0, 2, 1))\n\n    mean = X[ :, sele].mean(axis=0)\n    P, R = np.split((X[ :, sele] - mean), [split_data], axis=0) \n    P = P.reshape((-1, mean.size))\n    R = R.reshape((-1, mean.size))\n\n    plt.hist2d(*X[:, sele, 1:].reshape((-1, 2)).T, bins=256)\n    plt.gca().set_aspect('equal')\n    tp = 'alignedtoref_coordinates'\n    name = f'{fig_path}/{tp}model_{model}.png'\n    plt.savefig(name, dpi = 300, bbox_inches='tight')\n    print('Alignment of all structures onto the reference structure for coordinate data')\n    plt.show()\n\n    return P , R, mean",
      "metadata": {
        "scrolled": true
      },
      "outputs": [],
      "execution_count": null
    },
    {
      "id": "59fe2354-52c9-4e19-b037-a4792497a614",
      "cell_type": "code",
      "source": "def scree_plot(R, var):   \n    '''\n    Determining the eigenvalues and eigenvectors for the last subset of the split trajectory (R),\n    plotting the eigenvalues into a scree plot and printing the amount of variance the principal components cover. \n    '''\n    evals, loadings = np.linalg.eigh(R.T @ (R / len(R)))\n    loadings = loadings[:, ::-1]\n\n    plt.scatter(np.arange(1, 26), evals[-1:-26:-1])\n    plt.ylim((-1, max(1.1*evals)))\n    tp = f'screeplot_{var}'\n    name = f'{fig_path}/{tp}model_{model}.png'\n    plt.savefig(name, dpi = 300, bbox_inches='tight')\n    print(f'Scree plot for {var} PCs')\n    plt.show()\n    print(np.round(np.cumsum(evals[-1:-26:-1]) / evals.sum(), 2))\n    return loadings",
      "metadata": {},
      "outputs": [],
      "execution_count": null
    },
    {
      "id": "b77b6ec1-0bdd-4134-8031-17a7403fdad8",
      "cell_type": "code",
      "source": "def pca_coords(P,R, loadings, mean):   \n    '''\n    Calculating the principal components for the trajectory based on the coordinate data and the eigenvectors,\n    plotting the combination of each principal component\n    '''\n    ncomponents = 10\n    scores = R @ loadings[:, :ncomponents]\n    pscores = P @ loadings[:, :ncomponents]\n    variances = scores.var\n    scores /= len(mean) ** 0.5\n    pscores /= len(mean) ** 0.5\n\n    for k in [0,1], [0,2], [1,2], [0,3], [1,3], [2,3], [0,4], [1,4], [2,4], [3,4]:\n        print(f'Components {k[0]} and {k[1]} for coordinates:')\n        fig, ax = plt.subplots(figsize=(10, 10))\n        xp = pscores[..., k][:,0]\n        yp = pscores[..., k][:,1]\n        x = scores[..., k][:,0]\n        y = scores[..., k][:,1]\n        plt.scatter(xp,yp, c='magenta') \n        plt.scatter(x,y, c='green') \n        plt.gca().set_aspect('equal')\n        k = f'{k[0]}+{k[1]}_'\n        tp = f'PC{k}plot_coordinates_'\n        name = f'{fig_path}/{tp}model_{model}.png'\n        plt.savefig(name, dpi = 300, bbox_inches='tight')\n        plt.show()",
      "metadata": {},
      "outputs": [],
      "execution_count": null
    },
    {
      "id": "f8a48bfd-9237-4891-86da-229edb355a67",
      "cell_type": "markdown",
      "source": "# Principal component analysis for forces",
      "metadata": {}
    },
    {
      "id": "13c7689f-735e-49a4-bb27-f25f3be9bdb7",
      "cell_type": "code",
      "source": "def aligned_to_ref_forces(X,F, split_data):\n        '''\n    Aligning all the frames to the reference frame based on the forces data, which is set to the first with X[0},\n    plotting it and splitting the data in a way that is preferred and saving it into variables P and R.\n    '''\n    nframes, natoms, ndim = X.shape\n    X -= X.mean(axis=1, keepdims=True)\n    sele = BB & BODY\n    fit = sele\n    ref = X[0]\n\n    rctl = ref[fit] - ref[fit].mean(axis=0)\n    means = X[ :, fit].mean(axis=1, keepdims=True)\n    U, L, V = np.linalg.svd((rctl.T / (3 * len(rctl))) @ X[ :, fit])\n    X = (X - means) @ (U @ V).transpose((0, 2, 1))\n    F = F @ (U @ V).transpose((0, 2, 1))\n\n    mean = F[ :, sele].mean(axis=0)\n    P, R = np.split((F[ :, sele] - mean), [split_data], axis=0) \n    P = P.reshape((-1, mean.size))\n    R = R.reshape((-1, mean.size))\n\n    plt.hist2d(*F[:, sele, 1:].reshape((-1, 2)).T, bins=256)\n    plt.gca().set_aspect('equal')\n    tp = 'alignedtoref_forces'\n    name = f'{fig_path}/{tp}model_{model}.png'\n    plt.savefig(name, dpi = 300, bbox_inches='tight')\n    print('Alignment of all structures onto the reference structure for force data')\n    plt.show()\n    return P, R, mean",
      "metadata": {},
      "outputs": [],
      "execution_count": null
    },
    {
      "id": "7d093f00-f01c-4de0-bde4-81cedcd060f9",
      "cell_type": "code",
      "source": "def pca_forces(P,R,loadings, mean):\n        '''\n    Calculating the principal components for the trajectory based on the forces data and the eigenvectors,\n    plotting the combination of each principal component\n    '''\n    ncomponents = 10\n\n    scores = R @ loadings[:, :ncomponents]\n    pscores = P @ loadings[:, :ncomponents]\n    variances = scores.var\n    scores /= len(mean) ** 0.5\n    pscores /= len(mean) ** 0.5\n\n    for k in [0,1], [0,2], [1,2], [0,3], [1,3], [2,3], [0,4], [1,4], [2,4], [3,4]:\n        print(f'Components {k[0]} and {k[1]} for forces:')\n        fig, ax = plt.subplots(figsize=(10, 10))\n        xp = pscores[..., k][:,0]\n        yp = pscores[..., k][:,1]\n        x = scores[..., k][:,0]\n        y = scores[..., k][:,1]\n        plt.scatter(xp,yp, c='blue') \n        plt.scatter(x,y, c='orange') \n        plt.gca().set_aspect('equal')\n        k = f'{k[0]}+{k[1]}_'\n        tp = f'PC{k}plot_forces_'\n        name = f'{fig_path}/{tp}model_{model}.png'\n        plt.savefig(name, dpi = 300, bbox_inches='tight')\n        plt.show()\n",
      "metadata": {},
      "outputs": [],
      "execution_count": null
    },
    {
      "id": "9f845429-a567-4d8e-bbfb-c9ead8e9ef13",
      "cell_type": "code",
      "source": "def full_analysis(u, trr_file, selection):\n    '''\n    Combining all functions necessary for the analysis based on a trajectory containing coordinate data\n    as well as a trajectory containing forces data. \n    '''    \n    with tim('The entire analysis'):\n        X = uni2arr(u,selection)\n        F = trr2arr(trr_file, selection)\n        B = boxdim(u,protein)\n        X = nojump(X,B, ref.atoms.positions)\n        \n        refplot(X)\n        rmsd_plot(X)\n        rmsf_plot(X)\n        \n        Pc, Rc, meanc = aligned_to_ref_coords(X, 50)\n        loadingsc = scree_plot(Rc, 'coordinates')\n        pca_coords(Pc,Rc, loadingsc, meanc)\n        Pf, Rf, meanf = aligned_to_ref_forces(X, F, 50)\n        loadingsf = scree_plot(Rf, 'forces')\n        pca_forces(Pf, Rf, loadingsf, meanf)",
      "metadata": {},
      "outputs": [],
      "execution_count": null
    },
    {
      "id": "6baaea54-504d-40e8-b737-df7b5874a8c5",
      "cell_type": "code",
      "source": "full_analysis(u, trr_file, protein)",
      "metadata": {
        "trusted": true
      },
      "outputs": [],
      "execution_count": null
    }
  ]
}